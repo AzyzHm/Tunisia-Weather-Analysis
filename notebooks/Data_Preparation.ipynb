{
 "cells": [
  {
   "cell_type": "markdown",
   "metadata": {},
   "source": [
    "# Data Preparation:\n",
    "## Loading the Data:"
   ]
  },
  {
   "cell_type": "code",
   "execution_count": 1,
   "metadata": {},
   "outputs": [
    {
     "data": {
      "text/html": [
       "<div>\n",
       "<style scoped>\n",
       "    .dataframe tbody tr th:only-of-type {\n",
       "        vertical-align: middle;\n",
       "    }\n",
       "\n",
       "    .dataframe tbody tr th {\n",
       "        vertical-align: top;\n",
       "    }\n",
       "\n",
       "    .dataframe thead th {\n",
       "        text-align: right;\n",
       "    }\n",
       "</style>\n",
       "<table border=\"1\" class=\"dataframe\">\n",
       "  <thead>\n",
       "    <tr style=\"text-align: right;\">\n",
       "      <th></th>\n",
       "      <th>YEAR</th>\n",
       "      <th>MO</th>\n",
       "      <th>DY</th>\n",
       "      <th>ALLSKY_SFC_SW_DWN</th>\n",
       "      <th>ALLSKY_KT</th>\n",
       "      <th>ALLSKY_SFC_LW_DWN</th>\n",
       "      <th>ALLSKY_SFC_PAR_TOT</th>\n",
       "      <th>CLRSKY_SFC_PAR_TOT</th>\n",
       "      <th>ALLSKY_SFC_UV_INDEX</th>\n",
       "      <th>ALLSKY_SFC_UVA</th>\n",
       "      <th>...</th>\n",
       "      <th>T2M_MAX</th>\n",
       "      <th>T2M_MIN</th>\n",
       "      <th>TS</th>\n",
       "      <th>WS10M</th>\n",
       "      <th>WD10M</th>\n",
       "      <th>WS50M</th>\n",
       "      <th>WD50M</th>\n",
       "      <th>PS</th>\n",
       "      <th>PRECTOTCORR</th>\n",
       "      <th>RH2M</th>\n",
       "    </tr>\n",
       "  </thead>\n",
       "  <tbody>\n",
       "    <tr>\n",
       "      <th>0</th>\n",
       "      <td>1983</td>\n",
       "      <td>1</td>\n",
       "      <td>1</td>\n",
       "      <td>-999.0</td>\n",
       "      <td>-999.0</td>\n",
       "      <td>-999.0</td>\n",
       "      <td>-999.0</td>\n",
       "      <td>-999.0</td>\n",
       "      <td>-999.0</td>\n",
       "      <td>-999.0</td>\n",
       "      <td>...</td>\n",
       "      <td>13.02</td>\n",
       "      <td>-0.81</td>\n",
       "      <td>4.48</td>\n",
       "      <td>2.43</td>\n",
       "      <td>263.62</td>\n",
       "      <td>3.73</td>\n",
       "      <td>265.12</td>\n",
       "      <td>98.23</td>\n",
       "      <td>0.11</td>\n",
       "      <td>70.38</td>\n",
       "    </tr>\n",
       "    <tr>\n",
       "      <th>1</th>\n",
       "      <td>1983</td>\n",
       "      <td>1</td>\n",
       "      <td>2</td>\n",
       "      <td>-999.0</td>\n",
       "      <td>-999.0</td>\n",
       "      <td>-999.0</td>\n",
       "      <td>-999.0</td>\n",
       "      <td>-999.0</td>\n",
       "      <td>-999.0</td>\n",
       "      <td>-999.0</td>\n",
       "      <td>...</td>\n",
       "      <td>12.84</td>\n",
       "      <td>0.74</td>\n",
       "      <td>4.75</td>\n",
       "      <td>3.12</td>\n",
       "      <td>264.19</td>\n",
       "      <td>4.79</td>\n",
       "      <td>263.56</td>\n",
       "      <td>98.09</td>\n",
       "      <td>0.07</td>\n",
       "      <td>76.56</td>\n",
       "    </tr>\n",
       "    <tr>\n",
       "      <th>2</th>\n",
       "      <td>1983</td>\n",
       "      <td>1</td>\n",
       "      <td>3</td>\n",
       "      <td>-999.0</td>\n",
       "      <td>-999.0</td>\n",
       "      <td>-999.0</td>\n",
       "      <td>-999.0</td>\n",
       "      <td>-999.0</td>\n",
       "      <td>-999.0</td>\n",
       "      <td>-999.0</td>\n",
       "      <td>...</td>\n",
       "      <td>11.65</td>\n",
       "      <td>0.27</td>\n",
       "      <td>4.99</td>\n",
       "      <td>3.73</td>\n",
       "      <td>212.50</td>\n",
       "      <td>6.01</td>\n",
       "      <td>212.62</td>\n",
       "      <td>98.47</td>\n",
       "      <td>0.16</td>\n",
       "      <td>84.56</td>\n",
       "    </tr>\n",
       "    <tr>\n",
       "      <th>3</th>\n",
       "      <td>1983</td>\n",
       "      <td>1</td>\n",
       "      <td>4</td>\n",
       "      <td>-999.0</td>\n",
       "      <td>-999.0</td>\n",
       "      <td>-999.0</td>\n",
       "      <td>-999.0</td>\n",
       "      <td>-999.0</td>\n",
       "      <td>-999.0</td>\n",
       "      <td>-999.0</td>\n",
       "      <td>...</td>\n",
       "      <td>14.50</td>\n",
       "      <td>2.96</td>\n",
       "      <td>6.81</td>\n",
       "      <td>3.09</td>\n",
       "      <td>302.56</td>\n",
       "      <td>4.49</td>\n",
       "      <td>303.19</td>\n",
       "      <td>98.57</td>\n",
       "      <td>0.07</td>\n",
       "      <td>75.50</td>\n",
       "    </tr>\n",
       "    <tr>\n",
       "      <th>4</th>\n",
       "      <td>1983</td>\n",
       "      <td>1</td>\n",
       "      <td>5</td>\n",
       "      <td>-999.0</td>\n",
       "      <td>-999.0</td>\n",
       "      <td>-999.0</td>\n",
       "      <td>-999.0</td>\n",
       "      <td>-999.0</td>\n",
       "      <td>-999.0</td>\n",
       "      <td>-999.0</td>\n",
       "      <td>...</td>\n",
       "      <td>18.82</td>\n",
       "      <td>3.52</td>\n",
       "      <td>8.19</td>\n",
       "      <td>4.40</td>\n",
       "      <td>285.00</td>\n",
       "      <td>7.34</td>\n",
       "      <td>285.31</td>\n",
       "      <td>98.22</td>\n",
       "      <td>0.00</td>\n",
       "      <td>58.75</td>\n",
       "    </tr>\n",
       "  </tbody>\n",
       "</table>\n",
       "<p>5 rows × 23 columns</p>\n",
       "</div>"
      ],
      "text/plain": [
       "   YEAR  MO  DY  ALLSKY_SFC_SW_DWN  ALLSKY_KT  ALLSKY_SFC_LW_DWN  \\\n",
       "0  1983   1   1             -999.0     -999.0             -999.0   \n",
       "1  1983   1   2             -999.0     -999.0             -999.0   \n",
       "2  1983   1   3             -999.0     -999.0             -999.0   \n",
       "3  1983   1   4             -999.0     -999.0             -999.0   \n",
       "4  1983   1   5             -999.0     -999.0             -999.0   \n",
       "\n",
       "   ALLSKY_SFC_PAR_TOT  CLRSKY_SFC_PAR_TOT  ALLSKY_SFC_UV_INDEX  \\\n",
       "0              -999.0              -999.0               -999.0   \n",
       "1              -999.0              -999.0               -999.0   \n",
       "2              -999.0              -999.0               -999.0   \n",
       "3              -999.0              -999.0               -999.0   \n",
       "4              -999.0              -999.0               -999.0   \n",
       "\n",
       "   ALLSKY_SFC_UVA  ...  T2M_MAX  T2M_MIN    TS  WS10M   WD10M  WS50M   WD50M  \\\n",
       "0          -999.0  ...    13.02    -0.81  4.48   2.43  263.62   3.73  265.12   \n",
       "1          -999.0  ...    12.84     0.74  4.75   3.12  264.19   4.79  263.56   \n",
       "2          -999.0  ...    11.65     0.27  4.99   3.73  212.50   6.01  212.62   \n",
       "3          -999.0  ...    14.50     2.96  6.81   3.09  302.56   4.49  303.19   \n",
       "4          -999.0  ...    18.82     3.52  8.19   4.40  285.00   7.34  285.31   \n",
       "\n",
       "      PS  PRECTOTCORR   RH2M  \n",
       "0  98.23         0.11  70.38  \n",
       "1  98.09         0.07  76.56  \n",
       "2  98.47         0.16  84.56  \n",
       "3  98.57         0.07  75.50  \n",
       "4  98.22         0.00  58.75  \n",
       "\n",
       "[5 rows x 23 columns]"
      ]
     },
     "execution_count": 1,
     "metadata": {},
     "output_type": "execute_result"
    }
   ],
   "source": [
    "import pandas as pd\n",
    "\n",
    "filepath = \"../Data_set/Tunisia_Weather_All_Data.csv\"\n",
    "data = pd.read_csv(filepath)\n",
    "data.head()"
   ]
  },
  {
   "cell_type": "markdown",
   "metadata": {},
   "source": [
    "## Data Cleaning:\n",
    "Looking at the first 5 lines , we can see that there are some columns with corrupted data that needs to be **removed**."
   ]
  },
  {
   "cell_type": "code",
   "execution_count": 2,
   "metadata": {},
   "outputs": [],
   "source": [
    "data = data.drop(columns = [\"ALLSKY_SFC_SW_DWN\",\"ALLSKY_KT\",\"ALLSKY_SFC_LW_DWN\",\"ALLSKY_SFC_PAR_TOT\",\"CLRSKY_SFC_PAR_TOT\",\n",
    "                    \"ALLSKY_SFC_UV_INDEX\",\"ALLSKY_SFC_UVA\",\"ALLSKY_SFC_UVB\"])"
   ]
  },
  {
   "cell_type": "markdown",
   "metadata": {},
   "source": [
    "Let's have a look at the columns data types."
   ]
  },
  {
   "cell_type": "code",
   "execution_count": 3,
   "metadata": {},
   "outputs": [
    {
     "name": "stdout",
     "output_type": "stream",
     "text": [
      "<class 'pandas.core.frame.DataFrame'>\n",
      "RangeIndex: 14823 entries, 0 to 14822\n",
      "Data columns (total 15 columns):\n",
      " #   Column       Non-Null Count  Dtype  \n",
      "---  ------       --------------  -----  \n",
      " 0   YEAR         14823 non-null  int64  \n",
      " 1   MO           14823 non-null  int64  \n",
      " 2   DY           14823 non-null  int64  \n",
      " 3   T2M          14823 non-null  float64\n",
      " 4   T2MDEW       14823 non-null  float64\n",
      " 5   T2M_MAX      14823 non-null  float64\n",
      " 6   T2M_MIN      14823 non-null  float64\n",
      " 7   TS           14823 non-null  float64\n",
      " 8   WS10M        14823 non-null  float64\n",
      " 9   WD10M        14823 non-null  float64\n",
      " 10  WS50M        14823 non-null  float64\n",
      " 11  WD50M        14823 non-null  float64\n",
      " 12  PS           14823 non-null  float64\n",
      " 13  PRECTOTCORR  14823 non-null  float64\n",
      " 14  RH2M         14823 non-null  float64\n",
      "dtypes: float64(12), int64(3)\n",
      "memory usage: 1.7 MB\n"
     ]
    }
   ],
   "source": [
    "data.info()"
   ]
  },
  {
   "cell_type": "markdown",
   "metadata": {},
   "source": [
    "It appears that there is no null values in our dataset. Great! <br>\n",
    "Now let see if our data contains some duplicates rows that will affect our analysis."
   ]
  },
  {
   "cell_type": "code",
   "execution_count": 4,
   "metadata": {},
   "outputs": [
    {
     "name": "stdout",
     "output_type": "stream",
     "text": [
      "0\n"
     ]
    }
   ],
   "source": [
    "duplicate_rows = data.duplicated().sum()\n",
    "print(duplicate_rows)"
   ]
  },
  {
   "cell_type": "markdown",
   "metadata": {},
   "source": [
    "There are 0 duplicates rows in the dataset,that is good, but since we need every year full data we should get 365 rows for each yea(366 for leap years). "
   ]
  },
  {
   "cell_type": "code",
   "execution_count": 5,
   "metadata": {},
   "outputs": [
    {
     "data": {
      "text/plain": [
       "YEAR\n",
       "2008    366\n",
       "2004    366\n",
       "1984    366\n",
       "2020    366\n",
       "1988    366\n",
       "2000    366\n",
       "1992    366\n",
       "2016    366\n",
       "2012    366\n",
       "1996    366\n",
       "2013    365\n",
       "2009    365\n",
       "2010    365\n",
       "2011    365\n",
       "1983    365\n",
       "2014    365\n",
       "2007    365\n",
       "2017    365\n",
       "2018    365\n",
       "2019    365\n",
       "2021    365\n",
       "2022    365\n",
       "2015    365\n",
       "2003    365\n",
       "2006    365\n",
       "1993    365\n",
       "1985    365\n",
       "1986    365\n",
       "1987    365\n",
       "1989    365\n",
       "1990    365\n",
       "1991    365\n",
       "1994    365\n",
       "2005    365\n",
       "1995    365\n",
       "1997    365\n",
       "1998    365\n",
       "1999    365\n",
       "2001    365\n",
       "2002    365\n",
       "2023    213\n",
       "Name: count, dtype: int64"
      ]
     },
     "execution_count": 5,
     "metadata": {},
     "output_type": "execute_result"
    }
   ],
   "source": [
    "data[\"YEAR\"].value_counts()"
   ]
  },
  {
   "cell_type": "markdown",
   "metadata": {},
   "source": [
    "It appears that our data doesn't cover 2023 fully, so in order to make our analysis precise we need to filter it out. "
   ]
  },
  {
   "cell_type": "code",
   "execution_count": 6,
   "metadata": {},
   "outputs": [
    {
     "data": {
      "text/plain": [
       "YEAR\n",
       "2012    366\n",
       "2004    366\n",
       "2020    366\n",
       "1984    366\n",
       "1988    366\n",
       "2008    366\n",
       "2016    366\n",
       "1992    366\n",
       "2000    366\n",
       "1996    366\n",
       "1983    365\n",
       "2009    365\n",
       "2010    365\n",
       "2011    365\n",
       "2014    365\n",
       "2013    365\n",
       "2006    365\n",
       "2015    365\n",
       "2017    365\n",
       "2018    365\n",
       "2019    365\n",
       "2021    365\n",
       "2007    365\n",
       "2003    365\n",
       "2005    365\n",
       "2002    365\n",
       "2001    365\n",
       "1999    365\n",
       "1998    365\n",
       "1997    365\n",
       "1995    365\n",
       "1994    365\n",
       "1993    365\n",
       "1991    365\n",
       "1990    365\n",
       "1989    365\n",
       "1987    365\n",
       "1986    365\n",
       "1985    365\n",
       "2022    365\n",
       "Name: count, dtype: int64"
      ]
     },
     "execution_count": 6,
     "metadata": {},
     "output_type": "execute_result"
    }
   ],
   "source": [
    "data = data[data['YEAR'] != 2023]\n",
    "data[\"YEAR\"].value_counts()"
   ]
  },
  {
   "cell_type": "markdown",
   "metadata": {},
   "source": [
    "Much better! Now the dataset is ready for analysis , but first we should rename our columns to more understandable names."
   ]
  },
  {
   "cell_type": "code",
   "execution_count": 7,
   "metadata": {},
   "outputs": [
    {
     "data": {
      "text/plain": [
       "Index(['YEAR', 'MO', 'DY', 'T2M', 'T2MDEW', 'T2M_MAX', 'T2M_MIN', 'TS',\n",
       "       'WS10M', 'WD10M', 'WS50M', 'WD50M', 'PS', 'PRECTOTCORR', 'RH2M'],\n",
       "      dtype='object')"
      ]
     },
     "execution_count": 7,
     "metadata": {},
     "output_type": "execute_result"
    }
   ],
   "source": [
    "data.columns"
   ]
  },
  {
   "cell_type": "code",
   "execution_count": 8,
   "metadata": {},
   "outputs": [],
   "source": [
    "data = data.rename(columns={\n",
    "    'YEAR': 'Year',\n",
    "    'MO': 'Month',\n",
    "    'DY': 'Day',\n",
    "    'T2M': 'Temperature_2m',\n",
    "    'T2MDEW': 'Dew_Point_Temperature_2m',\n",
    "    'T2M_MAX': 'Max_Temperature_2m',\n",
    "    'T2M_MIN': 'Min_Temperature_2m',\n",
    "    'TS': 'Surface_Temperature',\n",
    "    'WS10M': 'Wind_Speed_10m',\n",
    "    'WD10M': 'Wind_Direction_10m',\n",
    "    'WS50M': 'Wind_Speed_50m',\n",
    "    'WD50M': 'Wind_Direction_50m',\n",
    "    'PS': 'Surface_Pressure',\n",
    "    'PRECTOTCORR': 'Corrected_Precipitation',\n",
    "    'RH2M': 'Relative_Humidity_2m'\n",
    "})"
   ]
  },
  {
   "cell_type": "code",
   "execution_count": 9,
   "metadata": {},
   "outputs": [
    {
     "data": {
      "text/plain": [
       "Index(['Year', 'Month', 'Day', 'Temperature_2m', 'Dew_Point_Temperature_2m',\n",
       "       'Max_Temperature_2m', 'Min_Temperature_2m', 'Surface_Temperature',\n",
       "       'Wind_Speed_10m', 'Wind_Direction_10m', 'Wind_Speed_50m',\n",
       "       'Wind_Direction_50m', 'Surface_Pressure', 'Corrected_Precipitation',\n",
       "       'Relative_Humidity_2m'],\n",
       "      dtype='object')"
      ]
     },
     "execution_count": 9,
     "metadata": {},
     "output_type": "execute_result"
    }
   ],
   "source": [
    "data.columns"
   ]
  },
  {
   "cell_type": "markdown",
   "metadata": {},
   "source": [
    "Great! Now the dataset is ready for analysis.<br>\n",
    "Let's save it and move on to the next stage of this project."
   ]
  },
  {
   "cell_type": "code",
   "execution_count": 10,
   "metadata": {},
   "outputs": [],
   "source": [
    "path = \"../Data_set/Cleaned_Data.csv\"\n",
    "data.to_csv(path,index = False)"
   ]
  }
 ],
 "metadata": {
  "kernelspec": {
   "display_name": "Python 3",
   "language": "python",
   "name": "python3"
  },
  "language_info": {
   "codemirror_mode": {
    "name": "ipython",
    "version": 3
   },
   "file_extension": ".py",
   "mimetype": "text/x-python",
   "name": "python",
   "nbconvert_exporter": "python",
   "pygments_lexer": "ipython3",
   "version": "3.11.5"
  }
 },
 "nbformat": 4,
 "nbformat_minor": 2
}
